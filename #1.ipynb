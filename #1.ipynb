{
 "cells": [
  {
   "cell_type": "code",
   "execution_count": 1,
   "metadata": {},
   "outputs": [],
   "source": [
    "import pandas as pd\n",
    "import requests\n",
    "from bs4 import BeautifulSoup\n",
    "import re"
   ]
  },
  {
   "cell_type": "markdown",
   "metadata": {},
   "source": [
    "# 1. Data Extraction: Using the BeautifulSoup"
   ]
  },
  {
   "cell_type": "code",
   "execution_count": 2,
   "metadata": {},
   "outputs": [],
   "source": [
    "res = requests.get(\"https://en.wikipedia.org/wiki/List_of_postal_codes_of_Canada:_M\").text\n",
    "soup = BeautifulSoup(res,'xml')\n",
    "table = soup.find('table')"
   ]
  },
  {
   "cell_type": "markdown",
   "metadata": {},
   "source": [
    "## Using the loop function to meet the folowing rules:\n",
    "1. Process the cells that have an assigned borough. \n",
    "2. Ignore cells with a borough that is Not assigned.\n",
    "3. Combine two rows into one row with the neighborhoods separated with\n",
    "4. If a cell has a borough but a Not assigned neighborhood, then the neighborhood will be the same as the borough."
   ]
  },
  {
   "cell_type": "code",
   "execution_count": 3,
   "metadata": {},
   "outputs": [
    {
     "name": "stdout",
     "output_type": "stream",
     "text": [
      "in try ==> ## b1 is: Not assigned ## b1 tag is: None ## n1 is: Not assigned ## n1 tag is: None\n",
      "in try ==> ## b1 is: Not assigned ## b1 tag is: None ## n1 is: Not assigned ## n1 tag is: None\n",
      "in try ==> ## b1 is: Not assigned ## b1 tag is: None ## n1 is: Not assigned ## n1 tag is: None\n",
      "in try ==> ## b1 is: Not assigned ## b1 tag is: None ## n1 is: Not assigned ## n1 tag is: None\n",
      "in try ==> ## b1 is: Not assigned ## b1 tag is: None ## n1 is: Not assigned ## n1 tag is: None\n",
      "in try ==> ## b1 is: Not assigned ## b1 tag is: None ## n1 is: Not assigned ## n1 tag is: None\n",
      "in try ==> ## b1 is: Not assigned ## b1 tag is: None ## n1 is: Not assigned ## n1 tag is: None\n",
      "in try ==> ## b1 is: York ## b1 tag is: None ## n1 is: Humewood-Cedarvale ## n1 tag is: None\n",
      "in try ==> ## b1 is: Not assigned ## b1 tag is: None ## n1 is: Not assigned ## n1 tag is: None\n",
      "in try ==> ## b1 is: Not assigned ## b1 tag is: None ## n1 is: Not assigned ## n1 tag is: None\n",
      "in try ==> ## b1 is: Not assigned ## b1 tag is: None ## n1 is: Not assigned ## n1 tag is: None\n",
      "in try ==> ## b1 is: Not assigned ## b1 tag is: None ## n1 is: Not assigned ## n1 tag is: None\n",
      "in try ==> ## b1 is: York ## b1 tag is: None ## n1 is: Caledonia-Fairbanks ## n1 tag is: None\n",
      "in try ==> ## b1 is: Not assigned ## b1 tag is: None ## n1 is: Not assigned ## n1 tag is: None\n",
      "in try ==> ## b1 is: Not assigned ## b1 tag is: None ## n1 is: Not assigned ## n1 tag is: None\n",
      "in try ==> ## b1 is: Not assigned ## b1 tag is: None ## n1 is: Not assigned ## n1 tag is: None\n",
      "in try ==> ## b1 is: Not assigned ## b1 tag is: None ## n1 is: Not assigned ## n1 tag is: None\n",
      "in try ==> ## b1 is: Not assigned ## b1 tag is: None ## n1 is: Not assigned ## n1 tag is: None\n",
      "in try ==> ## b1 is: Not assigned ## b1 tag is: None ## n1 is: Not assigned ## n1 tag is: None\n",
      "in try ==> ## b1 is: Not assigned ## b1 tag is: None ## n1 is: Not assigned ## n1 tag is: None\n",
      "in try ==> ## b1 is: Not assigned ## b1 tag is: None ## n1 is: Not assigned ## n1 tag is: None\n",
      "in try ==> ## b1 is: Not assigned ## b1 tag is: None ## n1 is: Not assigned ## n1 tag is: None\n",
      "in try ==> ## b1 is: Not assigned ## b1 tag is: None ## n1 is: Not assigned ## n1 tag is: None\n",
      "in try ==> ## b1 is: Not assigned ## b1 tag is: None ## n1 is: Not assigned ## n1 tag is: None\n",
      "in try ==> ## b1 is: Not assigned ## b1 tag is: None ## n1 is: Not assigned ## n1 tag is: None\n",
      "in try ==> ## b1 is: Not assigned ## b1 tag is: None ## n1 is: Not assigned ## n1 tag is: None\n",
      "in try ==> ## b1 is: Not assigned ## b1 tag is: None ## n1 is: Not assigned ## n1 tag is: None\n",
      "in try ==> ## b1 is: Not assigned ## b1 tag is: None ## n1 is: Not assigned ## n1 tag is: None\n",
      "in try ==> ## b1 is: Not assigned ## b1 tag is: None ## n1 is: Not assigned ## n1 tag is: None\n",
      "in try ==> ## b1 is: Not assigned ## b1 tag is: None ## n1 is: Not assigned ## n1 tag is: None\n",
      "in try ==> ## b1 is: Not assigned ## b1 tag is: None ## n1 is: Not assigned ## n1 tag is: None\n",
      "in try ==> ## b1 is: Not assigned ## b1 tag is: None ## n1 is: Not assigned ## n1 tag is: None\n",
      "in try ==> ## b1 is: Not assigned ## b1 tag is: None ## n1 is: Not assigned ## n1 tag is: None\n",
      "in try ==> ## b1 is: Not assigned ## b1 tag is: None ## n1 is: Not assigned ## n1 tag is: None\n",
      "in try ==> ## b1 is: Not assigned ## b1 tag is: None ## n1 is: Not assigned ## n1 tag is: None\n",
      "in try ==> ## b1 is: Not assigned ## b1 tag is: None ## n1 is: Not assigned ## n1 tag is: None\n",
      "in try ==> ## b1 is: Not assigned ## b1 tag is: None ## n1 is: Not assigned ## n1 tag is: None\n",
      "in try ==> ## b1 is: Not assigned ## b1 tag is: None ## n1 is: Not assigned ## n1 tag is: None\n",
      "in try ==> ## b1 is: Not assigned ## b1 tag is: None ## n1 is: Not assigned ## n1 tag is: None\n",
      "in try ==> ## b1 is: Not assigned ## b1 tag is: None ## n1 is: Not assigned ## n1 tag is: None\n",
      "in try ==> ## b1 is: Mississauga ## b1 tag is: None ## n1 is: Canada Post Gateway Processing Centre ## n1 tag is: None\n",
      "in try ==> ## b1 is: Not assigned ## b1 tag is: None ## n1 is: Not assigned ## n1 tag is: None\n",
      "in try ==> ## b1 is: Not assigned ## b1 tag is: None ## n1 is: Not assigned ## n1 tag is: None\n",
      "in try ==> ## b1 is: Not assigned ## b1 tag is: None ## n1 is: Not assigned ## n1 tag is: None\n",
      "in try ==> ## b1 is: Not assigned ## b1 tag is: None ## n1 is: Not assigned ## n1 tag is: None\n",
      "in try ==> ## b1 is: Not assigned ## b1 tag is: None ## n1 is: Not assigned ## n1 tag is: None\n",
      "in try ==> ## b1 is: Not assigned ## b1 tag is: None ## n1 is: Not assigned ## n1 tag is: None\n",
      "in try ==> ## b1 is: Not assigned ## b1 tag is: None ## n1 is: Not assigned ## n1 tag is: None\n",
      "in try ==> ## b1 is: Not assigned ## b1 tag is: None ## n1 is: Not assigned ## n1 tag is: None\n",
      "in try ==> ## b1 is: Not assigned ## b1 tag is: None ## n1 is: Not assigned ## n1 tag is: None\n",
      "in try ==> ## b1 is: Not assigned ## b1 tag is: None ## n1 is: Not assigned ## n1 tag is: None\n",
      "in try ==> ## b1 is: Not assigned ## b1 tag is: None ## n1 is: Not assigned ## n1 tag is: None\n",
      "in try ==> ## b1 is: Not assigned ## b1 tag is: None ## n1 is: Not assigned ## n1 tag is: None\n",
      "in try ==> ## b1 is: Not assigned ## b1 tag is: None ## n1 is: Not assigned ## n1 tag is: None\n",
      "in try ==> ## b1 is: Not assigned ## b1 tag is: None ## n1 is: Not assigned ## n1 tag is: None\n",
      "in try ==> ## b1 is: Not assigned ## b1 tag is: None ## n1 is: Not assigned ## n1 tag is: None\n",
      "in try ==> ## b1 is: Not assigned ## b1 tag is: None ## n1 is: Not assigned ## n1 tag is: None\n",
      "in try ==> ## b1 is: Not assigned ## b1 tag is: None ## n1 is: Not assigned ## n1 tag is: None\n",
      "in try ==> ## b1 is: Not assigned ## b1 tag is: None ## n1 is: Not assigned ## n1 tag is: None\n",
      "in try ==> ## b1 is: Not assigned ## b1 tag is: None ## n1 is: Not assigned ## n1 tag is: None\n",
      "in try ==> ## b1 is: Not assigned ## b1 tag is: None ## n1 is: Not assigned ## n1 tag is: None\n",
      "in try ==> ## b1 is: Not assigned ## b1 tag is: None ## n1 is: Not assigned ## n1 tag is: None\n",
      "in try ==> ## b1 is: Not assigned ## b1 tag is: None ## n1 is: Not assigned ## n1 tag is: None\n",
      "in try ==> ## b1 is: Not assigned ## b1 tag is: None ## n1 is: Not assigned ## n1 tag is: None\n",
      "in try ==> ## b1 is: Not assigned ## b1 tag is: None ## n1 is: Not assigned ## n1 tag is: None\n",
      "in try ==> ## b1 is: Not assigned ## b1 tag is: None ## n1 is: Not assigned ## n1 tag is: None\n",
      "in try ==> ## b1 is: Not assigned ## b1 tag is: None ## n1 is: Not assigned ## n1 tag is: None\n",
      "in try ==> ## b1 is: Not assigned ## b1 tag is: None ## n1 is: Not assigned ## n1 tag is: None\n",
      "in try ==> ## b1 is: Not assigned ## b1 tag is: None ## n1 is: Not assigned ## n1 tag is: None\n",
      "in try ==> ## b1 is: Not assigned ## b1 tag is: None ## n1 is: Not assigned ## n1 tag is: None\n",
      "in try ==> ## b1 is: Not assigned ## b1 tag is: None ## n1 is: Not assigned ## n1 tag is: None\n",
      "in try ==> ## b1 is: Not assigned ## b1 tag is: None ## n1 is: Not assigned ## n1 tag is: None\n",
      "in try ==> ## b1 is: Not assigned ## b1 tag is: None ## n1 is: Not assigned ## n1 tag is: None\n",
      "in try ==> ## b1 is: Not assigned ## b1 tag is: None ## n1 is: Not assigned ## n1 tag is: None\n",
      "in try ==> ## b1 is: Not assigned ## b1 tag is: None ## n1 is: Not assigned ## n1 tag is: None\n",
      "in try ==> ## b1 is: Not assigned ## b1 tag is: None ## n1 is: Not assigned ## n1 tag is: None\n",
      "in try ==> ## b1 is: Not assigned ## b1 tag is: None ## n1 is: Not assigned ## n1 tag is: None\n",
      "in try ==> ## b1 is: Not assigned ## b1 tag is: None ## n1 is: Not assigned ## n1 tag is: None\n",
      "in try ==> ## b1 is: Not assigned ## b1 tag is: None ## n1 is: Not assigned ## n1 tag is: None\n",
      "in try ==> ## b1 is: Not assigned ## b1 tag is: None ## n1 is: Not assigned ## n1 tag is: None\n"
     ]
    }
   ],
   "source": [
    "post=[]\n",
    "borough=[]\n",
    "neigh=[]\n",
    "# loop by tag to extract\n",
    "for tr in table.find_all('tr'):\n",
    "    i=1\n",
    "    p1=b1=n1=0\n",
    "    b1_tag=n1_tag=''\n",
    "    for td in tr.find_all('td'):\n",
    "        if i == 1: \n",
    "            p1=td.text\n",
    "        elif i == 2: \n",
    "            b1, b1_tag = td.text,td.find('a')\n",
    "        elif i == 3: \n",
    "            n1,n1_tag=str(td.text).strip(),td.find('href')\n",
    "        i +=1\n",
    "    # uncomment the print to evaluate filtered out records\n",
    "    try:\n",
    "        if ((b1_tag is None) and (n1_tag is None)):\n",
    "            print ('in try ==>','## b1 is:', b1,'## b1 tag is:', b1_tag,'## n1 is:', n1,'## n1 tag is:', n1_tag)\n",
    "            continue\n",
    "    except IndexError:\n",
    "            continue\n",
    "    if n1 =='Not assigned' and b1 != 'Not assigned':\n",
    "        n1=b1\n",
    "    if p1 != 0:\n",
    "        post.append(p1), borough.append(b1), neigh.append(n1)"
   ]
  },
  {
   "cell_type": "markdown",
   "metadata": {},
   "source": [
    "# 2. Data Transformation\n",
    "\n",
    "### Create .csv file"
   ]
  },
  {
   "cell_type": "code",
   "execution_count": 8,
   "metadata": {},
   "outputs": [],
   "source": [
    "dict = {'PostalCode':post, 'Borough':borough, 'Neighborhood':neigh}\n",
    "df = pd.DataFrame.from_dict(dict)\n",
    "df.to_csv('toronto.csv')"
   ]
  },
  {
   "cell_type": "markdown",
   "metadata": {},
   "source": [
    "## Print the number of rows of your dataframe"
   ]
  },
  {
   "cell_type": "code",
   "execution_count": 7,
   "metadata": {},
   "outputs": [
    {
     "data": {
      "text/plain": [
       "(209, 3)"
      ]
     },
     "execution_count": 7,
     "metadata": {},
     "output_type": "execute_result"
    }
   ],
   "source": [
    "df.shape"
   ]
  },
  {
   "cell_type": "code",
   "execution_count": null,
   "metadata": {},
   "outputs": [],
   "source": []
  }
 ],
 "metadata": {
  "kernelspec": {
   "display_name": "Python 3",
   "language": "python",
   "name": "python3"
  },
  "language_info": {
   "codemirror_mode": {
    "name": "ipython",
    "version": 3
   },
   "file_extension": ".py",
   "mimetype": "text/x-python",
   "name": "python",
   "nbconvert_exporter": "python",
   "pygments_lexer": "ipython3",
   "version": "3.6.5"
  }
 },
 "nbformat": 4,
 "nbformat_minor": 2
}
